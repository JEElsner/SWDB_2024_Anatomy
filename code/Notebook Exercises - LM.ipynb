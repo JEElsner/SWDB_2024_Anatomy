{
 "cells": [
  {
   "cell_type": "code",
   "execution_count": 1,
   "id": "d751e513-40f0-4b96-a674-cb3cf7fbfae7",
   "metadata": {
    "tags": []
   },
   "outputs": [],
   "source": [
    "#imports and data loading\n",
    "import pandas as pd\n",
    "\n",
    "from random import sample\n",
    "from utils.ccf_utils import get_ccf_ids, get_ccf_property #, get_connectivity_matrix\n",
    "from utils.skeleton_loading_utils import number_of_samples, load_lm_datasets, progress_bar\n",
    "import matplotlib.pyplot as plt\n",
    "import numpy as np\n",
    "import skeleton_plot as skelplot\n",
    "import seaborn as sns\n",
    "import random\n",
    "import trimesh\n",
    "import k3d\n",
    "from collections import defaultdict\n",
    "from sklearn.cluster import KMeans\n",
    "from sklearn.metrics import silhouette_score\n",
    "from brainglobe_atlasapi import BrainGlobeAtlas\n",
    "import brainglobe_atlasapi as atlasapi\n",
    "%matplotlib inline"
   ]
  },
  {
   "cell_type": "markdown",
   "id": "2b0ec13d-7e27-4392-88a6-edbf507ce178",
   "metadata": {},
   "source": [
    "<div style=\"border-left: 3px solid #000; padding: 1px; padding-left: 10px; background: #F0FAFF; \">\n",
    "This cell sets up a variable called `data_root` that you should use in any code below to access the dataset in question (e.g. paths to manifest files for the SDK should be made relative to this variable).\n",
    "</div>"
   ]
  },
  {
   "cell_type": "code",
   "execution_count": 2,
   "id": "267d68dd-8c9c-4848-840c-5eba8df84d18",
   "metadata": {
    "tags": []
   },
   "outputs": [],
   "source": [
    "import platform\n",
    "platstring = platform.platform()\n",
    "\n",
    "if 'Darwin' in platstring:\n",
    "    # macOS \n",
    "    data_root = \"/Volumes/Brain2024/anatomy/\"\n",
    "elif 'Windows'  in platstring:\n",
    "    # Windows (replace with the drive letter of USB drive)\n",
    "    data_root = \"E:/anatomy/\"\n",
    "elif ('amzn2' in platstring):\n",
    "    # then on AWS\n",
    "    data_root = \"/data/\"\n",
    "else:\n",
    "    # then your own linux platform\n",
    "    # EDIT location where you mounted hard drive\n",
    "    data_root = \"/media/$USERNAME/Brain2024/anatomy/\""
   ]
  },
  {
   "cell_type": "code",
   "execution_count": 3,
   "id": "097c8fcf-f2b2-48c3-b554-1c373b2dff59",
   "metadata": {
    "tags": []
   },
   "outputs": [
    {
     "name": "stdout",
     "output_type": "stream",
     "text": [
      "Loading datasets...\n",
      "exaSPIM_609281_2022-11-03_13-49-18_reconstructions/precomputed:  [==================================================] 25/25\n",
      "exaSPIM_651324_2023-03-06_15-13-25_reconstructions/precomputed:  [==================================================] 13/13\n",
      "exaSPIM_653158_2023-06-01_20-41-38_reconstructions/precomputed:  [==================================================] 42/42\n",
      "exaSPIM_653980_2023-08-10_20-08-29_reconstructions/precomputed:  [==================================================] 20/20\n",
      "mouselight_reconstructions/precomputed:  [==================================================] 1549/1549\n"
     ]
    }
   ],
   "source": [
    "# Load ccf atlas\n",
    "atlasapi.config.write_config_value('brainglobe_dir', f'{data_root}/.brainglobe')\n",
    "ccf_atlas = BrainGlobeAtlas('allen_mouse_10um')\n",
    "\n",
    "skel_list = load_lm_datasets(data_root)"
   ]
  },
  {
   "cell_type": "code",
   "execution_count": 4,
   "id": "3b9edd28-30a2-4d4a-b11f-950c7c86bc9a",
   "metadata": {
    "tags": []
   },
   "outputs": [],
   "source": [
    "#it may be useful to copy some functions from the demo notebook here functions\n"
   ]
  },
  {
   "cell_type": "markdown",
   "id": "a3b13f65-6456-40e6-8b1d-607b63a9ab70",
   "metadata": {},
   "source": [
    "<div style=\"background: #DFF0D8; border-radius: 3px; padding: 10px;\">\n",
    "<font size=\"4\"><p><b>Exercise 1:</b> Let's look at another region: VAL (ccf id = 629). Find all neurons sending output to this region and plot them (axon end points) \n",
    "</div>"
   ]
  },
  {
   "cell_type": "code",
   "execution_count": null,
   "id": "3116ac4c-cc5e-4664-9bf0-45725da22347",
   "metadata": {
    "tags": []
   },
   "outputs": [],
   "source": []
  },
  {
   "cell_type": "markdown",
   "id": "aa39f4ae-1cf6-4747-8377-773313a912f0",
   "metadata": {
    "jupyter": {
     "source_hidden": false
    }
   },
   "source": [
    "<div style=\"background: #DFF0D8; border-radius: 3px; padding: 10px;\">\n",
    "<font size=\"4\"><p><b>Exercise 2:</b> Pick one neuron here. Plot it in 3D with the CCF mesh. What fraction of this neuron's axonal endpoints are in our original target region of VAL? Look at the report and bar graph. Does VAL seem to be this neuron's \"primary\" projection target?\n",
    "</div>"
   ]
  },
  {
   "cell_type": "code",
   "execution_count": null,
   "id": "2654ba95-8346-427d-a801-b8a316f39624",
   "metadata": {
    "tags": []
   },
   "outputs": [],
   "source": []
  },
  {
   "cell_type": "markdown",
   "id": "a34d1607-9b5b-4739-8765-c03a60ea2bcb",
   "metadata": {
    "tags": []
   },
   "source": [
    "<div style=\"background: #DFF0D8; border-radius: 3px; padding: 10px;\">\n",
    "<font size=\"3\"><p><b>Exercise 3:</b> Find all neurons with somas in VAL and plot them.\n",
    "    \n",
    "</div>"
   ]
  },
  {
   "cell_type": "code",
   "execution_count": null,
   "id": "620c2541-446b-458b-9f4c-8ef8f7f5f643",
   "metadata": {
    "tags": []
   },
   "outputs": [],
   "source": []
  },
  {
   "cell_type": "markdown",
   "id": "92a7b0da-2741-4308-b652-c0ca54aebb61",
   "metadata": {
    "tags": []
   },
   "source": [
    "<div style=\"background: #DFF0D8; border-radius: 3px; padding: 10px;\">\n",
    "<font size=\"4\"><p><b>Exercise 4:</b> Calculate the feature matrix of the projection targets of all these cells.\n",
    "    \n",
    "</div>"
   ]
  },
  {
   "cell_type": "code",
   "execution_count": null,
   "id": "4b79cd89-1f26-4d8b-aedc-a4e002b2ff22",
   "metadata": {
    "tags": []
   },
   "outputs": [],
   "source": []
  },
  {
   "cell_type": "markdown",
   "id": "b3a44c39-5705-456a-9ebb-f369a5be42ef",
   "metadata": {
    "tags": []
   },
   "source": [
    "<div style=\"background: #DFF0D8; border-radius: 3px; padding: 10px;\">\n",
    "<font size=\"3\"><p><b>Exercise 5:</b> Calculate the following features for all neurons: total axon length, total dendrite length and number of branch points. (Hint: Look at supplemental information)\n",
    "    \n",
    "</div>"
   ]
  },
  {
   "cell_type": "code",
   "execution_count": null,
   "id": "525dea87-6925-41fa-ab0c-20b3c06adc4d",
   "metadata": {
    "tags": []
   },
   "outputs": [],
   "source": []
  },
  {
   "cell_type": "markdown",
   "id": "c94d8f0d-1310-498e-a387-e4c9ce095fb0",
   "metadata": {
    "tags": []
   },
   "source": [
    "<div style=\"background: #DFF0D8; border-radius: 3px; padding: 10px;\">\n",
    "<font size=\"3\"><p><b>Exercise 6:</b> How do these features correlate against each other? How do they correlate against the number of inputs to a certain region?\n",
    "    \n",
    "    \n",
    "</div>"
   ]
  },
  {
   "cell_type": "code",
   "execution_count": null,
   "id": "a1234da6-b4c8-468c-9967-7b52177087c6",
   "metadata": {
    "tags": []
   },
   "outputs": [],
   "source": []
  },
  {
   "cell_type": "code",
   "execution_count": null,
   "id": "ff80c3f9-01ae-4dbe-aeec-5fc8bd207448",
   "metadata": {
    "tags": []
   },
   "outputs": [],
   "source": []
  },
  {
   "cell_type": "markdown",
   "id": "3c36c627-0e4e-4692-acfd-a3877d7d7ff9",
   "metadata": {
    "tags": []
   },
   "source": [
    "<div style=\"background: #DFF0D8; border-radius: 3px; padding: 10px;\">\n",
    "<font size=\"3\"><p><b>Extra Credit:</b> Cluster the cells with your choice of k. What do you observe? \n",
    "    \n",
    "</div>"
   ]
  },
  {
   "cell_type": "code",
   "execution_count": null,
   "id": "4490fe9c-4fcd-49c9-96ac-c17874d1e078",
   "metadata": {
    "tags": []
   },
   "outputs": [],
   "source": []
  },
  {
   "cell_type": "code",
   "execution_count": null,
   "id": "6b5157dc-e50b-44c8-8651-20b57cf38664",
   "metadata": {
    "tags": []
   },
   "outputs": [],
   "source": []
  },
  {
   "cell_type": "code",
   "execution_count": null,
   "id": "012fe613-2bac-4397-b10e-099b4150db86",
   "metadata": {
    "tags": []
   },
   "outputs": [],
   "source": []
  },
  {
   "cell_type": "code",
   "execution_count": null,
   "id": "1fa61a55-965e-433d-a934-9e0251a985e6",
   "metadata": {
    "tags": []
   },
   "outputs": [],
   "source": []
  },
  {
   "cell_type": "markdown",
   "id": "e1d7f522-f2c1-4fdd-aec3-a6be5be7dc7c",
   "metadata": {},
   "source": [
    "<div style=\"border-left: 3px solid #000; padding: 1px; padding-left: 10px; background: #F0FAFF; \">\n",
    "    \n",
    "<h4>Extra Exercises </h4>\n",
    "    \n",
    "</div>"
   ]
  },
  {
   "cell_type": "markdown",
   "id": "a04c3834-9e85-4473-8825-04b1de584d6d",
   "metadata": {
    "tags": []
   },
   "source": [
    "<div style=\"background: #DFF0D8; border-radius: 3px; padding: 10px;\">\n",
    "\n",
    "<font size=\"4\"><p><b>Task 1.1:</b>  Find the most fine-grained brain region contained in the CCF (i.e. region at the largest depth).\n",
    "    \n",
    "</div>"
   ]
  },
  {
   "cell_type": "code",
   "execution_count": null,
   "id": "cd8de2e6-e6d0-4362-b9c9-eaa542ae8e7c",
   "metadata": {},
   "outputs": [],
   "source": []
  },
  {
   "cell_type": "markdown",
   "id": "32c441fc-ab67-4a67-9d7f-4a6e40a9be95",
   "metadata": {
    "tags": []
   },
   "source": [
    "<div style=\"background: #DFF0D8; border-radius: 3px; padding: 10px;\">\n",
    "\n",
    "<font size=\"4\"><p><b>Task 1.2:</b>  How many brain regions are at a depth=0, 1,..., n where n is the depth value from Task 1.1.\n",
    "\n",
    "</div>"
   ]
  },
  {
   "cell_type": "code",
   "execution_count": null,
   "id": "5e7c962d-9226-415a-baee-43f00c8604b9",
   "metadata": {},
   "outputs": [],
   "source": []
  },
  {
   "cell_type": "code",
   "execution_count": null,
   "id": "35c6df3d-6027-4a69-aded-4a3f023e0f48",
   "metadata": {},
   "outputs": [],
   "source": []
  }
 ],
 "metadata": {
  "kernelspec": {
   "display_name": "Python 3 (ipykernel)",
   "language": "python",
   "name": "python3"
  },
  "language_info": {
   "codemirror_mode": {
    "name": "ipython",
    "version": 3
   },
   "file_extension": ".py",
   "mimetype": "text/x-python",
   "name": "python",
   "nbconvert_exporter": "python",
   "pygments_lexer": "ipython3",
   "version": "3.10.12"
  }
 },
 "nbformat": 4,
 "nbformat_minor": 5
}
