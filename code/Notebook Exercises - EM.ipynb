{
 "cells": [
  {
   "cell_type": "markdown",
   "id": "e66264d2",
   "metadata": {},
   "source": [
    "<img src=\"resources/cropped-SummerWorkshop_Header.png\">  \n",
    "\n",
    "<h1 align=\"center\">Workshop SWDB 2024 </h1> \n",
    "<h3 align=\"center\">Day 3 2024 - Neuron Morphology</h3> \n",
    "<h3 align=\"center\">Exercise: EM Connectomics</h3> "
   ]
  },
  {
   "cell_type": "code",
   "execution_count": 1,
   "id": "36429d86",
   "metadata": {
    "tags": []
   },
   "outputs": [],
   "source": [
    "import pandas as pd\n",
    "import numpy as np\n",
    "from matplotlib import pyplot as plt\n",
    "import seaborn as sns\n",
    "from os.path import join as pjoin\n",
    "import skeleton_plot as skelplot\n",
    "import meshparty\n",
    "import cloudvolume\n",
    "\n",
    "from utils.skeleton_loading_utils import load_cv_skeleton\n",
    "\n",
    "%matplotlib inline"
   ]
  },
  {
   "cell_type": "markdown",
   "id": "f4d1012b-31cf-4e3d-9c2c-9dc3cc26ea7f",
   "metadata": {},
   "source": [
    "<div style=\"border-left: 3px solid #000; padding: 1px; padding-left: 10px; background: #F0FAFF; \">\n",
    "This cell sets up a variable called `data_root` that you should use in any code below to access the dataset in question (e.g. paths to manifest files for the SDK should be made relative to this variable).\n",
    "</div>"
   ]
  },
  {
   "cell_type": "code",
   "execution_count": 2,
   "id": "ed6e118f-55e8-4972-9d2c-2a0944c4a0e3",
   "metadata": {
    "tags": []
   },
   "outputs": [
    {
     "data": {
      "text/plain": [
       "'/data/'"
      ]
     },
     "execution_count": 2,
     "metadata": {},
     "output_type": "execute_result"
    }
   ],
   "source": [
    "import platform\n",
    "platstring = platform.platform()\n",
    "\n",
    "if 'Darwin' in platstring:\n",
    "    # macOS \n",
    "    data_root = \"/Volumes/Brain2024/anatomy/\"\n",
    "elif 'Windows'  in platstring:\n",
    "    # Windows (replace with the drive letter of USB drive)\n",
    "    data_root = \"E:/anatomy/\"\n",
    "elif ('amzn2' in platstring):\n",
    "    # then on AWS\n",
    "    data_root = \"/data/\"\n",
    "else:\n",
    "    # then your own linux platform\n",
    "    # EDIT location where you mounted hard drive\n",
    "    data_root = \"/media/$USERNAME/Brain2024/anatomy/\"\n",
    "data_root"
   ]
  },
  {
   "cell_type": "code",
   "execution_count": 3,
   "id": "1ad7919c-33ec-4d9c-aba1-b6f50b712a58",
   "metadata": {
    "tags": []
   },
   "outputs": [],
   "source": [
    "# Initialize cloud volume to access the EM skeletons\n",
    "cv_obj = cloudvolume.CloudVolume(f\"file://{data_root}/em_minnie65_v1078\") "
   ]
  },
  {
   "cell_type": "code",
   "execution_count": 4,
   "id": "0a8beafc",
   "metadata": {
    "tags": []
   },
   "outputs": [],
   "source": [
    "def plot_skeleton(sk: meshparty.skeleton.Skeleton):\n",
    "    \"\"\"Plots a skeleton.\n",
    "    \n",
    "    Args:\n",
    "        sk: meshparty skeleton\n",
    "        \n",
    "    Returns: \n",
    "        ax: plot axes\n",
    "    \"\"\"\n",
    "    fig, ax = plt.subplots(figsize=(7, 10))\n",
    "    skelplot.plot_tools.plot_skel(\n",
    "        sk,\n",
    "        ax=ax,\n",
    "        line_width = 1,\n",
    "        plot_soma = True,\n",
    "        invert_y = True,\n",
    "        x=\"x\",\n",
    "        y=\"y\",\n",
    "    )\n",
    "\n",
    "    ax.spines['right'].set_visible(False) \n",
    "    ax.spines['left'].set_visible(False) \n",
    "    ax.spines['top'].set_visible(False) \n",
    "    ax.spines['bottom'].set_visible(False)\n",
    "    ax.axis('off')\n",
    "    \n",
    "    return ax\n",
    "\n",
    "def filter_synapse_table(synapse_table: pd.DataFrame, pre_root_ids=None, post_root_ids=None):   \n",
    "    \"\"\"Filter synapse table by pre and post root ids.\n",
    "\n",
    "    Args:\n",
    "        synapse_table: synapse table with pre_pt_root_ids and post_pt_root_ids as pd.DataFrame\n",
    "        pre_root_ids: np.ndarray, list or pd.Series if root_ids to filter on the presynaptic side\n",
    "        post_root_ids: np.ndarray, list or pd.Series if root_ids to filter on the postsynaptic side\n",
    "\n",
    "    Returns:\n",
    "        synapse_table: filtered synapse table\n",
    "    \"\"\"\n",
    "    \n",
    "    if pre_root_ids is not None:\n",
    "        assert isinstance(pre_root_ids, (np.ndarray, list, pd.core.series.Series)), f\"IDs have to be of type np.ndarray, list or pd.Series; got {type(pre_root_ids)}\"\n",
    "        pre_m = np.isin(synapse_table[\"pre_pt_root_id\"], pre_root_ids)\n",
    "    else:\n",
    "        pre_m = np.ones(len(synapse_table), dtype=bool)\n",
    "        \n",
    "    if post_root_ids is not None:\n",
    "        assert isinstance(post_root_ids, (np.ndarray, list, pd.core.series.Series)), f\"IDs have to be of type np.ndarray, list or pd.Series; got {type(pre_root_ids)}\"\n",
    "        post_m = np.isin(synapse_table[\"post_pt_root_id\"], post_root_ids)\n",
    "    else:\n",
    "        post_m = np.ones(len(synapse_table), dtype=bool)\n",
    "        \n",
    "    return synapse_table[pre_m & post_m]\n",
    "\n",
    "def sort_matrix_by_types(mat: pd.DataFrame, \n",
    "                         labels: pd.DataFrame, \n",
    "                         label_type_col: str = \"cell_type\", \n",
    "                         label_id_col: str = \"pt_root_id\", \n",
    "                         post_labels: pd.DataFrame = None, \n",
    "                         post_label_type_col: str = None, \n",
    "                         post_label_id_col: str = None):\n",
    "    \"\"\"Sorts (synapse) matrix by labels.\n",
    "\n",
    "    This function assumes a square synapse matrix!\n",
    "\n",
    "    Args:\n",
    "        mat: synapse matrix as pandas DataFrame\n",
    "        labels: DataFrame with labels, e.g. the output of client.materialize.query_table('aibs_metamodel_celltypes_v661')\n",
    "        label_type_col: column name in labels for cell types\n",
    "        label_id_col: column name in labels for root ids\n",
    "        post_labels: DataFrame with labels, e.g. the output of client.materialize.query_table('aibs_metamodel_celltypes_v661')\n",
    "        post_label_type_col: column name in labels for cell types\n",
    "        post_label_id_col: column name in labels for root ids\n",
    "\n",
    "    Returns:\n",
    "        mat_sorted: sorted matrix\n",
    "        mat_labels: sorted labels; has the same length as matrix\n",
    "    \"\"\"\n",
    "    \n",
    "    if post_labels is None:\n",
    "        post_labels = labels\n",
    "    if post_label_type_col is None:\n",
    "        post_label_type_col = label_type_col\n",
    "    if post_label_id_col is None:\n",
    "        post_label_id_col = label_id_col\n",
    "        \n",
    "    mat_sorted = mat.copy()\n",
    "    \n",
    "    pre_mat_labels = np.array(labels.set_index(label_id_col).loc[mat_sorted.index][label_type_col])\n",
    "    pre_sorting = np.argsort(pre_mat_labels)\n",
    "\n",
    "    post_mat_labels = np.array(post_labels.set_index(post_label_id_col).loc[mat_sorted.T.index][post_label_type_col])\n",
    "    post_sorting = np.argsort(post_mat_labels)\n",
    "\n",
    "    mat_sorted = mat_sorted.iloc[pre_sorting].T.iloc[post_sorting].T\n",
    "\n",
    "    return mat_sorted, pre_mat_labels[pre_sorting], post_mat_labels[post_sorting]"
   ]
  },
  {
   "cell_type": "markdown",
   "id": "156d0f73",
   "metadata": {},
   "source": [
    "<div style=\"background: #DFF0D8; border-radius: 3px; padding: 10px;\">\n",
    "\n",
    "## Task 1: Inhibitory connectivity\n",
    "    \n",
    "    \n",
    "In the workshop, we visualized the connectivity of excitatory neurons with each other. Here, we will extend this analysis to include inhibitory neurons. \n",
    "    \n",
    "</div>"
   ]
  },
  {
   "cell_type": "markdown",
   "id": "00381709",
   "metadata": {},
   "source": [
    "<div style=\"background: #DFF0D8; border-radius: 3px; padding: 10px;\">\n",
    "\n",
    "### Task 1.1\n",
    "Load the proofreading, synapse and manual cell type information and filter the synapse table to only contain proofread neurons for which we have cell type information. Plot the synapse matrix.\n",
    "    \n",
    "</div>"
   ]
  },
  {
   "cell_type": "code",
   "execution_count": null,
   "id": "460e9a73",
   "metadata": {
    "tags": []
   },
   "outputs": [],
   "source": []
  },
  {
   "cell_type": "markdown",
   "id": "722db37e",
   "metadata": {},
   "source": [
    "<div style=\"background: #DFF0D8; border-radius: 3px; padding: 10px;\">\n",
    "\n",
    "### Task 1.2\n",
    "Sort the matrix using the cell type information and replot it.\n",
    "    \n",
    "</div>"
   ]
  },
  {
   "cell_type": "code",
   "execution_count": null,
   "id": "b546dce4",
   "metadata": {
    "tags": []
   },
   "outputs": [],
   "source": []
  },
  {
   "cell_type": "code",
   "execution_count": null,
   "id": "78bae579-4fac-4093-a3cc-239cc4f6aa6c",
   "metadata": {
    "tags": []
   },
   "outputs": [],
   "source": []
  },
  {
   "cell_type": "markdown",
   "id": "40567d3f",
   "metadata": {},
   "source": [
    "<div style=\"background: #DFF0D8; border-radius: 3px; padding: 10px;\">\n",
    "\n",
    "### Task 1.3\n",
    "Next, we will revisit the synaptic connectivity of a single neuron. Select an excitatory neuron from the set of proofread neurons and plot its skeleton and outgoing synapses.\n",
    "    \n",
    "</div>"
   ]
  },
  {
   "cell_type": "code",
   "execution_count": null,
   "id": "bdd540f4",
   "metadata": {
    "tags": []
   },
   "outputs": [],
   "source": []
  },
  {
   "cell_type": "code",
   "execution_count": null,
   "id": "dba8bd99",
   "metadata": {
    "tags": []
   },
   "outputs": [],
   "source": []
  },
  {
   "cell_type": "markdown",
   "id": "3f598477",
   "metadata": {},
   "source": [
    "<div style=\"background: #DFF0D8; border-radius: 3px; padding: 10px;\">\n",
    "\n",
    "### Task 1.4\n",
    "Color the outgoing synapses by their target type. Use the automated cell type prediction to color synapses by excitatory / inhibitory postsynaptic identity (the `classification_system` column in the cell type table can be used here). \n",
    "    \n",
    "Multiple publications reported a bias for inhibitory targets being overrepresented on the initial part of the axon and excitatory targets being dominant on the distal sections. Can you tell this bias for your neuron as well? \n",
    "    \n",
    "</div>"
   ]
  },
  {
   "cell_type": "code",
   "execution_count": null,
   "id": "10500d28",
   "metadata": {
    "tags": []
   },
   "outputs": [],
   "source": []
  },
  {
   "cell_type": "code",
   "execution_count": null,
   "id": "aec70c53",
   "metadata": {
    "tags": []
   },
   "outputs": [],
   "source": []
  },
  {
   "cell_type": "code",
   "execution_count": null,
   "id": "ac13cb48",
   "metadata": {
    "tags": []
   },
   "outputs": [],
   "source": []
  },
  {
   "cell_type": "code",
   "execution_count": null,
   "id": "4daa3239",
   "metadata": {
    "tags": []
   },
   "outputs": [],
   "source": []
  },
  {
   "cell_type": "markdown",
   "id": "7e3e17d9",
   "metadata": {},
   "source": [
    "<div style=\"background: #DFF0D8; border-radius: 3px; padding: 10px;\">\n",
    "\n",
    "## Task 2: In/out degree of inhbitory neurons\n",
    "    \n",
    "Because cortical inhibitory neuron's axons are relatively local they can be mostly contained with the mm scale dataset.  Therefore, after proofreading a large fraction of their output synaspes can be reconstructed.  Their dendrites are also contained within the volume and so their inputs are largely complete as well.  Therefore one simple question is whether the number of inputs a particular interneuron of a particular class is related to the number of outputs that cell sends locally.  \n",
    "\n",
    "This exercise is to ask that question of the dataset, by finding the total number of synaptic inputs and outputs from individual inhibitory neurons in the dataset, and make scatter plots of the number of inputs and outputs broken down by cell type. \n",
    "</div>"
   ]
  },
  {
   "cell_type": "markdown",
   "id": "2390d748-6df4-4c08-afe7-1deb6585779b",
   "metadata": {
    "tags": []
   },
   "source": [
    "<div style=\"background: #DFF0D8; border-radius: 3px; padding: 10px;\">\n",
    "\n",
    "### Task 2.1\n",
    "Using the proofread cells that are classfied as inhibitory, filter the proofread synapse table to only include ouputs from proofread inhibitory cells.  Then do the same to find the inputs to those same neurons in the dataset.  How many cells, total inputs and total outputs are there onto and from proofreading inhibitory cells?\n",
    "</div>"
   ]
  },
  {
   "cell_type": "code",
   "execution_count": null,
   "id": "dd4a6f00-4fe0-42dc-8d3d-5b918795822f",
   "metadata": {
    "tags": []
   },
   "outputs": [],
   "source": []
  },
  {
   "cell_type": "markdown",
   "id": "053d6055-12d3-4244-8017-ae602cf9c9fe",
   "metadata": {
    "tags": []
   },
   "source": [
    "<div style=\"background: #DFF0D8; border-radius: 3px; padding: 10px;\">\n",
    "\n",
    "### Task 2.2\n",
    "Using group-bys and merges, construct a dataframe that contains a pt_root_id, it's total inputs, total outputs and cell type. \n",
    "    \n",
    "Make a scatter plot of the number of inputs versus the number of outputs colored by cell type.  Do any cell types show a significant relationship? \n",
    "</div>"
   ]
  },
  {
   "cell_type": "code",
   "execution_count": null,
   "id": "a35aabb9-be0c-43bf-bed5-a1ecac8688f4",
   "metadata": {
    "tags": []
   },
   "outputs": [],
   "source": []
  },
  {
   "cell_type": "code",
   "execution_count": null,
   "id": "2e18c344-c9b4-4ecf-ba4c-438f6d4bed1c",
   "metadata": {
    "tags": []
   },
   "outputs": [],
   "source": []
  },
  {
   "cell_type": "code",
   "execution_count": null,
   "id": "222ffcbc-8dee-4e65-9a26-adfe42a9590a",
   "metadata": {},
   "outputs": [],
   "source": []
  }
 ],
 "metadata": {
  "kernelspec": {
   "display_name": "Python 3 (ipykernel)",
   "language": "python",
   "name": "python3"
  },
  "language_info": {
   "codemirror_mode": {
    "name": "ipython",
    "version": 3
   },
   "file_extension": ".py",
   "mimetype": "text/x-python",
   "name": "python",
   "nbconvert_exporter": "python",
   "pygments_lexer": "ipython3",
   "version": "3.10.12"
  },
  "vscode": {
   "interpreter": {
    "hash": "d4d1e4263499bec80672ea0156c357c1ee493ec2b1c70f0acce89fc37c4a6abe"
   }
  }
 },
 "nbformat": 4,
 "nbformat_minor": 5
}
